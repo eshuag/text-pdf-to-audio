{
 "cells": [
  {
   "cell_type": "code",
   "execution_count": null,
   "metadata": {},
   "outputs": [
    {
     "name": "stdout",
     "output_type": "stream",
     "text": [
      " * Serving Flask app \"__main__\" (lazy loading)\n",
      " * Environment: production\n",
      "   WARNING: Do not use the development server in a production environment.\n",
      "   Use a production WSGI server instead.\n",
      " * Debug mode: off\n"
     ]
    },
    {
     "name": "stderr",
     "output_type": "stream",
     "text": [
      " * Running on http://127.0.0.1:5000/ (Press CTRL+C to quit)\n",
      "127.0.0.1 - - [22/Jan/2021 09:26:01] \"\u001b[37mGET / HTTP/1.1\u001b[0m\" 200 -\n"
     ]
    }
   ],
   "source": [
    "from flask import Flask, render_template, request\n",
    "from werkzeug import secure_filename\n",
    "app = Flask(__name__)\n",
    "\n",
    "@app.route('/')\n",
    "def upload_file():\n",
    "    return render_template('upload.html')\n",
    "\n",
    "\n",
    "@app.route('/uploader', methods = ['GET', 'POST'])\n",
    "def file():\n",
    "    if request.method == 'POST':\n",
    "        f = request.files['file']\n",
    "\n",
    "        pdfReader = PyPDF2.PdfFileReader(f) \n",
    "        for page in range(pdfReader.numPages): \n",
    " \n",
    "            pageObj = pdfReader.getPage(page) \n",
    "            text = pageObj.extractText() \n",
    "            #text_file.write(text)\n",
    "            speak = pyttsx3.init() \n",
    "            speak.say(text) \n",
    "            speak.runAndWait()\n",
    "     \n",
    "        language=detect(text)\n",
    "\n",
    "        myobj = gTTS(text=text, lang=language, slow=False) \n",
    "\n",
    "        myobj.save(\"welcome00.mp3\") \n",
    "\n",
    "        \n",
    "\n",
    "        # reading the text \n",
    "        \n",
    "        f.save(secure_filename(f.filename))\n",
    "        return 'file uploaded successfully'\n",
    "\t\t\n",
    "if __name__ == '__main__':\n",
    "   app.run()"
   ]
  },
  {
   "cell_type": "code",
   "execution_count": 3,
   "metadata": {},
   "outputs": [],
   "source": [
    "# importing the modules \n",
    "import PyPDF2 \n",
    "import pyttsx3 \n",
    "from gtts import gTTS \n",
    "import os \n",
    "from langdetect import detect\n"
   ]
  },
  {
   "cell_type": "code",
   "execution_count": null,
   "metadata": {},
   "outputs": [],
   "source": []
  }
 ],
 "metadata": {
  "kernelspec": {
   "display_name": "Python 3",
   "language": "python",
   "name": "python3"
  },
  "language_info": {
   "codemirror_mode": {
    "name": "ipython",
    "version": 3
   },
   "file_extension": ".py",
   "mimetype": "text/x-python",
   "name": "python",
   "nbconvert_exporter": "python",
   "pygments_lexer": "ipython3",
   "version": "3.7.3"
  }
 },
 "nbformat": 4,
 "nbformat_minor": 2
}
